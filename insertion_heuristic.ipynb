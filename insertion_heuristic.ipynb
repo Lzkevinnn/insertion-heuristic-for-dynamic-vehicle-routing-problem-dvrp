{
 "cells": [
  {
   "cell_type": "code",
   "execution_count": 343,
   "metadata": {},
   "outputs": [],
   "source": [
    "import pandas as pd\n",
    "import numpy as np\n",
    "import matplotlib.pylab as plt\n",
    "from copy import deepcopy"
   ]
  },
  {
   "cell_type": "markdown",
   "metadata": {},
   "source": [
    "### 1. Read nodes and demand information, \n",
    "- x and y are coordinate of the node.\n",
    "- label 0 means deport, where all the vehicle stored at time = 0\n",
    "- label 1 means pick-up requirement\n",
    "- label 2 means drop-off requirement\n",
    "- pick-up node 1 corresponds to drop-off node 6, i.e. 1 - 6, 2 - 7, ..."
   ]
  },
  {
   "cell_type": "code",
   "execution_count": 414,
   "metadata": {},
   "outputs": [
    {
     "data": {
      "text/html": [
       "<div>\n",
       "<style scoped>\n",
       "    .dataframe tbody tr th:only-of-type {\n",
       "        vertical-align: middle;\n",
       "    }\n",
       "\n",
       "    .dataframe tbody tr th {\n",
       "        vertical-align: top;\n",
       "    }\n",
       "\n",
       "    .dataframe thead th {\n",
       "        text-align: right;\n",
       "    }\n",
       "</style>\n",
       "<table border=\"1\" class=\"dataframe\">\n",
       "  <thead>\n",
       "    <tr style=\"text-align: right;\">\n",
       "      <th></th>\n",
       "      <th>x</th>\n",
       "      <th>y</th>\n",
       "      <th>label</th>\n",
       "    </tr>\n",
       "    <tr>\n",
       "      <th>node</th>\n",
       "      <th></th>\n",
       "      <th></th>\n",
       "      <th></th>\n",
       "    </tr>\n",
       "  </thead>\n",
       "  <tbody>\n",
       "    <tr>\n",
       "      <td>0</td>\n",
       "      <td>0.000000</td>\n",
       "      <td>0.000000</td>\n",
       "      <td>0</td>\n",
       "    </tr>\n",
       "    <tr>\n",
       "      <td>1</td>\n",
       "      <td>-2.578360</td>\n",
       "      <td>-2.189990</td>\n",
       "      <td>1</td>\n",
       "    </tr>\n",
       "    <tr>\n",
       "      <td>2</td>\n",
       "      <td>-3.682280</td>\n",
       "      <td>-1.408570</td>\n",
       "      <td>1</td>\n",
       "    </tr>\n",
       "    <tr>\n",
       "      <td>3</td>\n",
       "      <td>1.848372</td>\n",
       "      <td>0.752895</td>\n",
       "      <td>1</td>\n",
       "    </tr>\n",
       "    <tr>\n",
       "      <td>4</td>\n",
       "      <td>-3.099600</td>\n",
       "      <td>4.402963</td>\n",
       "      <td>1</td>\n",
       "    </tr>\n",
       "    <tr>\n",
       "      <td>5</td>\n",
       "      <td>-1.551850</td>\n",
       "      <td>-0.260790</td>\n",
       "      <td>1</td>\n",
       "    </tr>\n",
       "    <tr>\n",
       "      <td>6</td>\n",
       "      <td>4.211534</td>\n",
       "      <td>-3.435790</td>\n",
       "      <td>2</td>\n",
       "    </tr>\n",
       "    <tr>\n",
       "      <td>7</td>\n",
       "      <td>0.169566</td>\n",
       "      <td>-0.854430</td>\n",
       "      <td>2</td>\n",
       "    </tr>\n",
       "    <tr>\n",
       "      <td>8</td>\n",
       "      <td>3.137681</td>\n",
       "      <td>1.081198</td>\n",
       "      <td>2</td>\n",
       "    </tr>\n",
       "    <tr>\n",
       "      <td>9</td>\n",
       "      <td>-1.427170</td>\n",
       "      <td>-1.103930</td>\n",
       "      <td>2</td>\n",
       "    </tr>\n",
       "    <tr>\n",
       "      <td>10</td>\n",
       "      <td>4.045071</td>\n",
       "      <td>-1.519680</td>\n",
       "      <td>2</td>\n",
       "    </tr>\n",
       "  </tbody>\n",
       "</table>\n",
       "</div>"
      ],
      "text/plain": [
       "             x         y  label\n",
       "node                           \n",
       "0     0.000000  0.000000      0\n",
       "1    -2.578360 -2.189990      1\n",
       "2    -3.682280 -1.408570      1\n",
       "3     1.848372  0.752895      1\n",
       "4    -3.099600  4.402963      1\n",
       "5    -1.551850 -0.260790      1\n",
       "6     4.211534 -3.435790      2\n",
       "7     0.169566 -0.854430      2\n",
       "8     3.137681  1.081198      2\n",
       "9    -1.427170 -1.103930      2\n",
       "10    4.045071 -1.519680      2"
      ]
     },
     "execution_count": 414,
     "metadata": {},
     "output_type": "execute_result"
    }
   ],
   "source": [
    "nodes = pd.read_csv('Pickup and deliver.csv', index_col = 'node')\n",
    "nodes"
   ]
  },
  {
   "cell_type": "markdown",
   "metadata": {},
   "source": [
    "#### Extract drop off nodes for reference"
   ]
  },
  {
   "cell_type": "code",
   "execution_count": 415,
   "metadata": {},
   "outputs": [
    {
     "data": {
      "text/plain": [
       "[6, 7, 8, 9, 10]"
      ]
     },
     "execution_count": 415,
     "metadata": {},
     "output_type": "execute_result"
    }
   ],
   "source": [
    "df_drop_off = nodes.loc[nodes['label'] == 2]\n",
    "drop_off = list(df_drop_off.index)\n",
    "drop_off"
   ]
  },
  {
   "cell_type": "markdown",
   "metadata": {},
   "source": [
    "#### Create origin - destination pairs from nodes"
   ]
  },
  {
   "cell_type": "code",
   "execution_count": 416,
   "metadata": {},
   "outputs": [
    {
     "data": {
      "text/plain": [
       "{(1, 6): 1, (2, 7): 1, (3, 8): 1, (4, 9): 1, (5, 10): 1}"
      ]
     },
     "execution_count": 416,
     "metadata": {},
     "output_type": "execute_result"
    }
   ],
   "source": [
    "OD = dict()\n",
    "number_demand = int((len(nodes.index) - 1) / 2)\n",
    "for i in range(1, number_demand + 1):\n",
    "    key = (nodes.index[i], nodes.index[i + number_demand])\n",
    "    OD[key] = 1 # if unserved\n",
    "OD"
   ]
  },
  {
   "cell_type": "markdown",
   "metadata": {},
   "source": [
    "### 2. Define necessary classes and functions"
   ]
  },
  {
   "cell_type": "markdown",
   "metadata": {},
   "source": [
    "#### Define vehicle"
   ]
  },
  {
   "cell_type": "code",
   "execution_count": 417,
   "metadata": {},
   "outputs": [],
   "source": [
    "class vehicle():\n",
    "    def __init__(self):\n",
    "        self.x = 0  # x coordinate\n",
    "        self.y = 0  # y coordinate\n",
    "        self.customer = 0 # number of customers\n",
    "        self.path = list() # path assigned to this vehicle\n",
    "        self.visited = list()\n",
    "        \n",
    "    def update_pos(self, x, y):\n",
    "        self.x = x\n",
    "        self.y = y\n",
    "        \n",
    "    def add_customer(self, customer):\n",
    "        self.customer += customer\n",
    "        \n",
    "    def update_path(self, path):\n",
    "        self.path = path\n",
    "        \n",
    "    def update_visited(self, node):\n",
    "        self.visited.append(node)"
   ]
  },
  {
   "cell_type": "markdown",
   "metadata": {},
   "source": [
    "#### Define a function that inserts a new OD pair into an existing path\n",
    "- Pick-up is always ahead of drop-off\n",
    "- Return all possible paths"
   ]
  },
  {
   "cell_type": "code",
   "execution_count": 418,
   "metadata": {},
   "outputs": [],
   "source": [
    "# for simplicity, assume len(path) <= 4 for capacity <= 2\n",
    "def insert(path, new_OD):\n",
    "    paths = list()\n",
    "    O = new_OD[0]\n",
    "    D = new_OD[1]\n",
    "    for i in range(len(path) + 1):\n",
    "        path1 = deepcopy(path)\n",
    "        path1.insert(i, O)\n",
    "        k = path1.index(O) + 1\n",
    "        for j in range(k, len(path1) + 1):\n",
    "            path2 = path1.copy()\n",
    "            path2.insert(j, D)\n",
    "            paths.append(path2)\n",
    "            \n",
    "    return paths"
   ]
  },
  {
   "cell_type": "markdown",
   "metadata": {},
   "source": [
    "#### Define a function to update vehicle's position, load, and path"
   ]
  },
  {
   "cell_type": "code",
   "execution_count": 419,
   "metadata": {},
   "outputs": [],
   "source": [
    "# update position and drop-offs\n",
    "def update(vehs, speed, dt, drop_off):\n",
    "\n",
    "    d = speed * dt\n",
    "    vehs_new = list()\n",
    "    \n",
    "    for veh in vehs:\n",
    "        \n",
    "        if len(veh.path) > 0:\n",
    "            \n",
    "            # obtain a list of unvisited nodes\n",
    "            visited = veh.visited\n",
    "            #print('visited: ', veh.visited)\n",
    "            #print('veh.path: ', veh.path)\n",
    "            unvisited = deepcopy(veh.path)\n",
    "            for node in veh.path:\n",
    "                if node in visited:\n",
    "                    unvisited.remove(node)\n",
    "            #print('unvisited: ', unvisited)        \n",
    "            # calculate the distance of vehicle to all unvisited nodes      \n",
    "            dist = list()\n",
    "            n1 = unvisited[0]\n",
    "            #print('n1: ', n1)\n",
    "            x1 = nodes['x'][n1]\n",
    "            y1 = nodes['y'][n1]\n",
    "            dist_1_0 = distance(veh.x, veh.y, x1, y1)\n",
    "            \n",
    "            # if not over reach, calcultate the distance based on (veh -> n1)\n",
    "            if d < dist_1_0:\n",
    "                sign = 1\n",
    "                if x1 < veh.x:\n",
    "                    sign = -1\n",
    "                direct = (veh.y - y1) / (veh.x - x1)\n",
    "                dx = (1 / (1 + direct ** 2)) ** 0.5 * d\n",
    "                dy = direct * dx\n",
    "                veh.x = veh.x + sign * dx\n",
    "                veh.y = veh.y + sign * dy\n",
    "            \n",
    "            # if over reach, calculate distance based on (n1 -> n2) \n",
    "            else:\n",
    "                \n",
    "                # if there is still next node\n",
    "                if len(unvisited) > 1:\n",
    "                    delta_d = d - dist_1_0\n",
    "                    n2 = unvisited[1]\n",
    "                    x2 = nodes['x'][n2]\n",
    "                    y2 = nodes['y'][n2]\n",
    "                    \n",
    "                    sign = 1\n",
    "                    if x2 < x1:\n",
    "                        sign = -1\n",
    "                    direct = (y2 - y1) / (x2 - x1)\n",
    "                    dx = (1 / (1 + direct ** 2)) ** 0.5 * delta_d\n",
    "                    dy = direct * dx\n",
    "                    veh.x = x1 + sign * dx\n",
    "                    veh.y = y1 + sign * dy\n",
    "                \n",
    "                # all the nodes are visited, the vehicle shall stay on the final position until further notice\n",
    "                else:\n",
    "                    veh.x = x1\n",
    "                    veh.y = y1\n",
    "                    \n",
    "                # add n1 to visited node\n",
    "                veh.update_visited(n1)\n",
    "                veh.path.remove(n1)\n",
    "                #veh.update_path(veh.path.remove(n1))\n",
    "                \n",
    "                # if n1 is a drop-off node\n",
    "                if n1 in drop_off:\n",
    "                    print('drop a customer')\n",
    "                    veh.add_customer(-1)\n",
    "                \n",
    "            vehs_new.append(veh)\n",
    "            \n",
    "        else:\n",
    "            vehs_new.append(veh)\n",
    "            \n",
    "    return vehs_new"
   ]
  },
  {
   "cell_type": "markdown",
   "metadata": {},
   "source": [
    "#### Define if all the OD pairs are served (not used for now)"
   ]
  },
  {
   "cell_type": "code",
   "execution_count": 420,
   "metadata": {},
   "outputs": [],
   "source": [
    "def all_served_check(OD):\n",
    "    all_served = True\n",
    "    for key in OD.keys():\n",
    "        if OD[key] == 1:\n",
    "            all_served = False\n",
    "    return all_served"
   ]
  },
  {
   "cell_type": "markdown",
   "metadata": {},
   "source": [
    "#### Auxilary functions to calculate \n",
    "1. point-point distance\n",
    "2. path total length"
   ]
  },
  {
   "cell_type": "code",
   "execution_count": 421,
   "metadata": {},
   "outputs": [],
   "source": [
    "# auxilary function to calculate distance\n",
    "def distance(x1, y1, x2, y2):\n",
    "    dist = (x1 - x2) ** 2 + (y1 - y2) ** 2\n",
    "    dist = dist ** 0.5\n",
    "    return dist\n",
    "\n",
    "def distance_path(vehx, vehy, path, nodes):\n",
    "    n1 = path[0]\n",
    "    x1 = nodes['x'][n1]\n",
    "    y1 = nodes['y'][n1]\n",
    "    dist0 = distance(vehx, vehy, x1, y1)\n",
    "    \n",
    "    for i in range(len(path) - 1):\n",
    "        n1 = path[i]\n",
    "        n2 = path[i + 1]\n",
    "        x1 = nodes['x'][n1]\n",
    "        y1 = nodes['y'][n1]\n",
    "        x2 = nodes['x'][n2]\n",
    "        y2 = nodes['y'][n2]\n",
    "        dist0 += distance(x1, y1, x2, y2)\n",
    "        \n",
    "    return dist0"
   ]
  },
  {
   "cell_type": "markdown",
   "metadata": {},
   "source": [
    "### 3. Main function"
   ]
  },
  {
   "cell_type": "code",
   "execution_count": 433,
   "metadata": {},
   "outputs": [
    {
     "name": "stdout",
     "output_type": "stream",
     "text": [
      "--- t =  0 :   demand  (1, 6)\n",
      "veh  0 :\n",
      "   path:  [1, 6]\n",
      "   load:  1\n",
      "   position: [ 0 , 0 ]\n",
      "veh  1 :\n",
      "   path:  []\n",
      "   load:  0\n",
      "   position: [ 0 , 0 ]\n",
      "total_distance:  10.29\n"
     ]
    },
    {
     "data": {
      "image/png": "[encoded data removed]",
      "text/plain": [
       "<Figure size 360x360 with 1 Axes>"
      ]
     },
     "metadata": {
      "needs_background": "light"
     },
     "output_type": "display_data"
    },
    {
     "name": "stdout",
     "output_type": "stream",
     "text": [
      "--- t =  1 :   demand  (2, 7)\n",
      "veh  0 :\n",
      "   path:  [2, 1, 7, 6]\n",
      "   load:  2\n",
      "   position: [ -0.76 , -0.65 ]\n",
      "veh  1 :\n",
      "   path:  []\n",
      "   load:  0\n",
      "   position: [ 0 , 0 ]\n",
      "total_distance:  13.22\n"
     ]
    },
    {
     "data": {
      "image/png": "[encoded data removed]",
      "text/plain": [
       "<Figure size 360x360 with 1 Axes>"
      ]
     },
     "metadata": {
      "needs_background": "light"
     },
     "output_type": "display_data"
    },
    {
     "name": "stdout",
     "output_type": "stream",
     "text": [
      "--- t =  2 :   demand  (3, 8)\n",
      "veh  0 :\n",
      "   path:  [2, 1, 7, 6]\n",
      "   load:  2\n",
      "   position: [ -1.73 , -0.9 ]\n",
      "veh  1 :\n",
      "   path:  [3, 8]\n",
      "   load:  1\n",
      "   position: [ 0 , 0 ]\n",
      "total_distance:  16.55\n"
     ]
    },
    {
     "data": {
      "image/png": "[encoded data removed]",
      "text/plain": [
       "<Figure size 360x360 with 1 Axes>"
      ]
     },
     "metadata": {
      "needs_background": "light"
     },
     "output_type": "display_data"
    },
    {
     "name": "stdout",
     "output_type": "stream",
     "text": [
      "--- t =  3 :   demand  (4, 9)\n",
      "veh  0 :\n",
      "   path:  [2, 1, 7, 6]\n",
      "   load:  2\n",
      "   position: [ -2.7 , -1.15 ]\n",
      "veh  1 :\n",
      "   path:  [3, 8, 4, 9]\n",
      "   load:  2\n",
      "   position: [ 0.93 , 0.38 ]\n",
      "total_distance:  29.37\n"
     ]
    },
    {
     "data": {
      "image/png": "[encoded data removed]",
      "text/plain": [
       "<Figure size 360x360 with 1 Axes>"
      ]
     },
     "metadata": {
      "needs_background": "light"
     },
     "output_type": "display_data"
    },
    {
     "name": "stdout",
     "output_type": "stream",
     "text": [
      "--- t =  4 :   demand  (5, 10)\n",
      "veh  0 :\n",
      "   path:  [2, 1, 7, 6]\n",
      "   load:  2\n",
      "   position: [ -3.67 , -1.4 ]\n",
      "veh  1 :\n",
      "   path:  [8, 4, 9]\n",
      "   load:  2\n",
      "   position: [ 1.85 , 0.75 ]\n",
      "total_distance:  29.37\n"
     ]
    },
    {
     "data": {
      "image/png": "[encoded data removed]",
      "text/plain": [
       "<Figure size 360x360 with 1 Axes>"
      ]
     },
     "metadata": {
      "needs_background": "light"
     },
     "output_type": "display_data"
    }
   ],
   "source": [
    "# define customer capacity\n",
    "customer_cap = 2\n",
    "\n",
    "# define fleet size\n",
    "n_v = 2\n",
    "\n",
    "# initiate vehicles and colors for plot purpose\n",
    "vehs = list()\n",
    "for v in range(n_v):\n",
    "    vehs.append(vehicle())\n",
    "    \n",
    "# initialize total travel length\n",
    "total_distance = 0\n",
    "\n",
    "# initialize time\n",
    "t = 0\n",
    "\n",
    "# define initial OD pairs, speed, and time step\n",
    "OrDes = [0]\n",
    "speed = 1\n",
    "dt = 1\n",
    "\n",
    "for OrDe in OD.keys():\n",
    "    \n",
    "    candidate_vehs = list()\n",
    "    \n",
    "    # loop over all vehicles to find shortest increase of total distance\n",
    "    for veh in vehs:\n",
    "\n",
    "        # if this vehicle still has extra capacity, add task to it\n",
    "        if veh.customer < customer_cap:\n",
    "            \n",
    "            # if this vehicle has a path already, insert a new path\n",
    "            if len(veh.path) > 0:\n",
    "                \n",
    "                # find all possible paths\n",
    "                paths = insert(veh.path, OrDe)\n",
    "                #print('paths: ', paths)\n",
    "                dist_min = np.inf\n",
    "                path_sel = paths[0]\n",
    "\n",
    "                # find the path with minimum length\n",
    "                for path in paths:\n",
    "                    \n",
    "                    dist0 = distance_path(veh.x, veh.y, path, nodes)\n",
    "                    # record minimum length and the corresponding path\n",
    "                    if dist0 < dist_min:\n",
    "                        dist_min = dist0\n",
    "                        dist_add = dist_min - distance_path(veh.x, veh.y, veh.path, nodes)\n",
    "                        path_sel = path\n",
    "                        \n",
    "            # else, append the new OrDe pair to it    \n",
    "            else:\n",
    "                O = OrDe[0]\n",
    "                D = OrDe[1]\n",
    "                dist_min = distance(veh.x, veh.y, nodes['x'][O], nodes['y'][O])\n",
    "                dist_min += distance(nodes['x'][O], nodes['y'][O], nodes['x'][D], nodes['y'][D])\n",
    "                dist_add = dist_min\n",
    "                path_sel = list(OrDe)\n",
    "                \n",
    "            # record vehicle id, min distance added, and the corresponding path        \n",
    "            candidate_vehs.append([vehs.index(veh), dist_add, path_sel])\n",
    "        \n",
    "        #print('veh_sel: ', vehs.index(veh), '. dist_add: ', dist_add, '. path_sel: ', path_sel)\n",
    "    \n",
    "    if len(candidate_vehs) > 0:\n",
    "        # compare candidate vehicles, select the one with minimum dist_add\n",
    "        df_cv = pd.DataFrame(candidate_vehs, columns = ['id', 'dist_add', 'path'])\n",
    "\n",
    "        total_distance += df_cv['dist_add'].min()\n",
    "        index = df_cv[['dist_add']].idxmin()\n",
    "\n",
    "        veh_index = int(df_cv['id'][index])\n",
    "        path_sel = list(df_cv['path'][index])[0]\n",
    "        vehs[veh_index].add_customer(1)\n",
    "        vehs[veh_index].update_path(list(path_sel))\n",
    "    \n",
    "    \n",
    "    # print and plot\n",
    "    print('--- t = ', t, ': ', ' demand ', OrDe)\n",
    "    #print('veh selected (id): ', veh_index)\n",
    "    \n",
    "    temp = list(OrDe)\n",
    "    for ele in temp:\n",
    "        OrDes.append(ele)\n",
    "    df_OrDes = nodes[nodes.index.isin(OrDes)]\n",
    "    x = list(df_OrDes['x'])\n",
    "    y = list(df_OrDes['y'])\n",
    "    fig, ax = plt.subplots(figsize = (5, 5))\n",
    "    ax.scatter(x, y, marker = 'o', color = 'blue')\n",
    "    \n",
    "    for i, label in enumerate(list(df_OrDes.index)):\n",
    "        ax.annotate(label, (x[i], y[i]), xytext = (x[i] - 0.2, y[i] + 0.08))\n",
    "        \n",
    "    for i in range(len(vehs)):\n",
    "        print('veh ', i, ':')\n",
    "        print('   path: ', vehs[i].path)\n",
    "        print('   load: ', vehs[i].customer)\n",
    "        print('   position: [', round(vehs[i].x, 2) , ',',round(vehs[i].y, 2), ']')\n",
    "        \n",
    "        colors = ['#cc5d2d', '#1b8a19', '#8a7019', '#19198a', '#8a1979']\n",
    "        ax.plot(vehs[i].x, vehs[i].y, marker = '*', color = colors[i])\n",
    "        label = 'veh_' + str(i) + ' (load: ' + str(vehs[i].customer) + ')'\n",
    "        ax.annotate(label, (vehs[i].x, vehs[i].y), xytext = (vehs[i].x + 0.08, vehs[i].y + 0.08), color = colors[i])\n",
    "        xp = [vehs[i].x]\n",
    "        yp = [vehs[i].y]\n",
    "        for node in vehs[i].path:\n",
    "            xp.append(nodes['x'][node])\n",
    "            yp.append(nodes['y'][node])\n",
    "        for ixp in range(len(xp) - 1):\n",
    "            dxp = xp[ixp + 1] - xp[ixp]\n",
    "            dyp = yp[ixp + 1] - yp[ixp]\n",
    "            ax.arrow(xp[ixp], yp[ixp], dxp, dyp, head_width = 0.25, color = colors[i], length_includes_head = True)\n",
    "        #ax.plot(xp, yp)\n",
    "        ax.set_xlim(-6, 6)\n",
    "        ax.set_ylim(-4, 5)\n",
    "    \n",
    "    print('total_distance: ', round(total_distance,2))\n",
    "    plt.show()\n",
    "    #print('------')\n",
    "    \n",
    "    # Update vehicles position\n",
    "    t += dt\n",
    "    \n",
    "    # plotfunction(vehs)\n",
    "    vehs = update(vehs, speed, dt, drop_off)"
   ]
  },
  {
   "cell_type": "code",
   "execution_count": null,
   "metadata": {},
   "outputs": [],
   "source": []
  }
 ],
 "metadata": {
  "kernelspec": {
   "display_name": "Python 3",
   "language": "python",
   "name": "python3"
  },
  "language_info": {
   "codemirror_mode": {
    "name": "ipython",
    "version": 3
   },
   "file_extension": ".py",
   "mimetype": "text/x-python",
   "name": "python",
   "nbconvert_exporter": "python",
   "pygments_lexer": "ipython3",
   "version": "3.7.4"
  }
 },
 "nbformat": 4,
 "nbformat_minor": 2
}
